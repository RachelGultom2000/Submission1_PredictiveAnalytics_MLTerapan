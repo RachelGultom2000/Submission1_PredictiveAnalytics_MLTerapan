{
  "nbformat": 4,
  "nbformat_minor": 0,
  "metadata": {
    "colab": {
      "name": "Submission1_PredictiveAnalytics.ipynb",
      "provenance": [],
      "collapsed_sections": []
    },
    "kernelspec": {
      "name": "python3",
      "display_name": "Python 3"
    },
    "language_info": {
      "name": "python"
    }
  },
  "cells": [
    {
      "cell_type": "markdown",
      "metadata": {
        "id": "AxbgXlBfdfrh"
      },
      "source": [
        "**Biodata**\n",
        "* Nama     : Rachel Gultom\n",
        "* Email    : rachelgultom5@gmail.com\n",
        "* Domisili : Asahan,Sumatera Utara\n",
        "* Github (termasuk README.MD) : https://github.com/RachelGultom2000/Submission1_PredictiveAnalytics_MLTerapan\n",
        "* Drive (Dataset) : https://drive.google.com/drive/folders/1w8KZ34YMEjLOuv6qs8ebfAA1XZ75kbpz?usp=sharing\n",
        "Submission1_PredictiveAnalytics_MLTerapan\n",
        "* Nama Tugas : Submission 1 - ML Terapan\n"
      ]
    },
    {
      "cell_type": "markdown",
      "metadata": {
        "id": "vKXhaNDZmKdQ"
      },
      "source": [
        "## Prediksi Penyakit Stroke dengan Menggunakan Algoritma Logistic Regression ##\n",
        "\n",
        "### Metode :\n",
        "- Logistic Regression\n",
        "- Random Forest"
      ]
    },
    {
      "cell_type": "markdown",
      "metadata": {
        "id": "MOHLbjS-mj43"
      },
      "source": [
        "Import Library seperti Pandas,Scikit-learn,Searborn dan lainnya"
      ]
    },
    {
      "cell_type": "code",
      "metadata": {
        "id": "4tY1xuKjh0NT"
      },
      "source": [
        "# Import Library\n",
        "\n",
        "import pandas as pd\n",
        "\n",
        "from sklearn.model_selection import train_test_split\n",
        "from sklearn.metrics import accuracy_score\n",
        "from sklearn.preprocessing import StandardScaler\n",
        "from sklearn.linear_model import LogisticRegression\n",
        "from sklearn.ensemble import RandomForestRegressor\n",
        "\n",
        "from sklearn.metrics import mean_squared_error\n",
        "from sklearn.metrics import confusion_matrix\n",
        "from sklearn.metrics import log_loss\n",
        "\n",
        "import seaborn as sns"
      ],
      "execution_count": 35,
      "outputs": []
    },
    {
      "cell_type": "markdown",
      "metadata": {
        "id": "tRwcxJrpmuVO"
      },
      "source": [
        "# Pre-Processing\n",
        "## Beriku adalah langkah-langkah dalam melakukan preprocessing :\n",
        "1. Melakukan load dataset ke dalam data frame\n",
        "2. Memberikan tanda *numerical features* dari data dalam mempermudah proses scalling\n",
        "3. Melakukan drop kolom untuk gender,ever_married,work_type,Residence_type dan smoking_status karena mesin tidak bisa membaca tipe data string (seharusnya bisa dengan convert,tetapi tidak disarankan karena berpotensi merusak akurasi data)\n",
        "4. Mengisi missing value dengan nilai median.Missing value adalah kondisi dimana sebuah kolom tidak memiliki nilai atau NaN.Dengan median,data akan kembali di normalkan sehingga akan mempengarungi kebaikan dataset.\n",
        "5. Melakukan pemisahan antara dataset train dan dataset test dengan proporsi pembagian :\n",
        "  - 75% untuk data latih(train)\n",
        "  - 25% untuk data uji(test)\n",
        "6. Scalling dengan menggunakan Standard Scaler dari sklearn berfungsi agar fitur numerik dapat diproses lebih mudah oleh si mesin dalam proses modelling."
      ]
    },
    {
      "cell_type": "markdown",
      "metadata": {
        "id": "Ypis3knAoXFo"
      },
      "source": [
        "## Melakukan load dataset (memamasukkan dataset atau membaca) & Memberikan tanda pada num features.\n",
        "Load dataset ke dalam dataframe"
      ]
    },
    {
      "cell_type": "code",
      "metadata": {
        "colab": {
          "base_uri": "https://localhost:8080/",
          "height": 423
        },
        "id": "BXNIDNpQeWrZ",
        "outputId": "b33af639-748f-4ea1-cd0a-a39ec766e92a"
      },
      "source": [
        "# Menampilkan dataset\n",
        "\n",
        "df = pd.read_csv('stroke_dataset.csv')\n",
        "numerical_features = ['heart_disease','avg_glucose_level','bmi','age']\n",
        "df"
      ],
      "execution_count": 22,
      "outputs": [
        {
          "output_type": "execute_result",
          "data": {
            "text/html": [
              "<div>\n",
              "<style scoped>\n",
              "    .dataframe tbody tr th:only-of-type {\n",
              "        vertical-align: middle;\n",
              "    }\n",
              "\n",
              "    .dataframe tbody tr th {\n",
              "        vertical-align: top;\n",
              "    }\n",
              "\n",
              "    .dataframe thead th {\n",
              "        text-align: right;\n",
              "    }\n",
              "</style>\n",
              "<table border=\"1\" class=\"dataframe\">\n",
              "  <thead>\n",
              "    <tr style=\"text-align: right;\">\n",
              "      <th></th>\n",
              "      <th>id</th>\n",
              "      <th>gender</th>\n",
              "      <th>age</th>\n",
              "      <th>hypertension</th>\n",
              "      <th>heart_disease</th>\n",
              "      <th>ever_married</th>\n",
              "      <th>work_type</th>\n",
              "      <th>Residence_type</th>\n",
              "      <th>avg_glucose_level</th>\n",
              "      <th>bmi</th>\n",
              "      <th>smoking_status</th>\n",
              "      <th>stroke</th>\n",
              "    </tr>\n",
              "  </thead>\n",
              "  <tbody>\n",
              "    <tr>\n",
              "      <th>0</th>\n",
              "      <td>9046</td>\n",
              "      <td>Male</td>\n",
              "      <td>67.0</td>\n",
              "      <td>0</td>\n",
              "      <td>1</td>\n",
              "      <td>Yes</td>\n",
              "      <td>Private</td>\n",
              "      <td>Urban</td>\n",
              "      <td>228.69</td>\n",
              "      <td>36.6</td>\n",
              "      <td>formerly smoked</td>\n",
              "      <td>1</td>\n",
              "    </tr>\n",
              "    <tr>\n",
              "      <th>1</th>\n",
              "      <td>51676</td>\n",
              "      <td>Female</td>\n",
              "      <td>61.0</td>\n",
              "      <td>0</td>\n",
              "      <td>0</td>\n",
              "      <td>Yes</td>\n",
              "      <td>Self-employed</td>\n",
              "      <td>Rural</td>\n",
              "      <td>202.21</td>\n",
              "      <td>NaN</td>\n",
              "      <td>never smoked</td>\n",
              "      <td>1</td>\n",
              "    </tr>\n",
              "    <tr>\n",
              "      <th>2</th>\n",
              "      <td>31112</td>\n",
              "      <td>Male</td>\n",
              "      <td>80.0</td>\n",
              "      <td>0</td>\n",
              "      <td>1</td>\n",
              "      <td>Yes</td>\n",
              "      <td>Private</td>\n",
              "      <td>Rural</td>\n",
              "      <td>105.92</td>\n",
              "      <td>32.5</td>\n",
              "      <td>never smoked</td>\n",
              "      <td>1</td>\n",
              "    </tr>\n",
              "    <tr>\n",
              "      <th>3</th>\n",
              "      <td>60182</td>\n",
              "      <td>Female</td>\n",
              "      <td>49.0</td>\n",
              "      <td>0</td>\n",
              "      <td>0</td>\n",
              "      <td>Yes</td>\n",
              "      <td>Private</td>\n",
              "      <td>Urban</td>\n",
              "      <td>171.23</td>\n",
              "      <td>34.4</td>\n",
              "      <td>smokes</td>\n",
              "      <td>1</td>\n",
              "    </tr>\n",
              "    <tr>\n",
              "      <th>4</th>\n",
              "      <td>1665</td>\n",
              "      <td>Female</td>\n",
              "      <td>79.0</td>\n",
              "      <td>1</td>\n",
              "      <td>0</td>\n",
              "      <td>Yes</td>\n",
              "      <td>Self-employed</td>\n",
              "      <td>Rural</td>\n",
              "      <td>174.12</td>\n",
              "      <td>24.0</td>\n",
              "      <td>never smoked</td>\n",
              "      <td>1</td>\n",
              "    </tr>\n",
              "    <tr>\n",
              "      <th>...</th>\n",
              "      <td>...</td>\n",
              "      <td>...</td>\n",
              "      <td>...</td>\n",
              "      <td>...</td>\n",
              "      <td>...</td>\n",
              "      <td>...</td>\n",
              "      <td>...</td>\n",
              "      <td>...</td>\n",
              "      <td>...</td>\n",
              "      <td>...</td>\n",
              "      <td>...</td>\n",
              "      <td>...</td>\n",
              "    </tr>\n",
              "    <tr>\n",
              "      <th>5105</th>\n",
              "      <td>18234</td>\n",
              "      <td>Female</td>\n",
              "      <td>80.0</td>\n",
              "      <td>1</td>\n",
              "      <td>0</td>\n",
              "      <td>Yes</td>\n",
              "      <td>Private</td>\n",
              "      <td>Urban</td>\n",
              "      <td>83.75</td>\n",
              "      <td>NaN</td>\n",
              "      <td>never smoked</td>\n",
              "      <td>0</td>\n",
              "    </tr>\n",
              "    <tr>\n",
              "      <th>5106</th>\n",
              "      <td>44873</td>\n",
              "      <td>Female</td>\n",
              "      <td>81.0</td>\n",
              "      <td>0</td>\n",
              "      <td>0</td>\n",
              "      <td>Yes</td>\n",
              "      <td>Self-employed</td>\n",
              "      <td>Urban</td>\n",
              "      <td>125.20</td>\n",
              "      <td>40.0</td>\n",
              "      <td>never smoked</td>\n",
              "      <td>0</td>\n",
              "    </tr>\n",
              "    <tr>\n",
              "      <th>5107</th>\n",
              "      <td>19723</td>\n",
              "      <td>Female</td>\n",
              "      <td>35.0</td>\n",
              "      <td>0</td>\n",
              "      <td>0</td>\n",
              "      <td>Yes</td>\n",
              "      <td>Self-employed</td>\n",
              "      <td>Rural</td>\n",
              "      <td>82.99</td>\n",
              "      <td>30.6</td>\n",
              "      <td>never smoked</td>\n",
              "      <td>0</td>\n",
              "    </tr>\n",
              "    <tr>\n",
              "      <th>5108</th>\n",
              "      <td>37544</td>\n",
              "      <td>Male</td>\n",
              "      <td>51.0</td>\n",
              "      <td>0</td>\n",
              "      <td>0</td>\n",
              "      <td>Yes</td>\n",
              "      <td>Private</td>\n",
              "      <td>Rural</td>\n",
              "      <td>166.29</td>\n",
              "      <td>25.6</td>\n",
              "      <td>formerly smoked</td>\n",
              "      <td>0</td>\n",
              "    </tr>\n",
              "    <tr>\n",
              "      <th>5109</th>\n",
              "      <td>44679</td>\n",
              "      <td>Female</td>\n",
              "      <td>44.0</td>\n",
              "      <td>0</td>\n",
              "      <td>0</td>\n",
              "      <td>Yes</td>\n",
              "      <td>Govt_job</td>\n",
              "      <td>Urban</td>\n",
              "      <td>85.28</td>\n",
              "      <td>26.2</td>\n",
              "      <td>Unknown</td>\n",
              "      <td>0</td>\n",
              "    </tr>\n",
              "  </tbody>\n",
              "</table>\n",
              "<p>5110 rows × 12 columns</p>\n",
              "</div>"
            ],
            "text/plain": [
              "         id  gender   age  ...   bmi   smoking_status stroke\n",
              "0      9046    Male  67.0  ...  36.6  formerly smoked      1\n",
              "1     51676  Female  61.0  ...   NaN     never smoked      1\n",
              "2     31112    Male  80.0  ...  32.5     never smoked      1\n",
              "3     60182  Female  49.0  ...  34.4           smokes      1\n",
              "4      1665  Female  79.0  ...  24.0     never smoked      1\n",
              "...     ...     ...   ...  ...   ...              ...    ...\n",
              "5105  18234  Female  80.0  ...   NaN     never smoked      0\n",
              "5106  44873  Female  81.0  ...  40.0     never smoked      0\n",
              "5107  19723  Female  35.0  ...  30.6     never smoked      0\n",
              "5108  37544    Male  51.0  ...  25.6  formerly smoked      0\n",
              "5109  44679  Female  44.0  ...  26.2          Unknown      0\n",
              "\n",
              "[5110 rows x 12 columns]"
            ]
          },
          "metadata": {},
          "execution_count": 22
        }
      ]
    },
    {
      "cell_type": "markdown",
      "metadata": {
        "id": "m6jFoCT2pEAy"
      },
      "source": [
        "## Drop Column \n",
        "Melakukan drop terhadap kolom adalah salah satu cara yang baik agar model menjadi lebih baik karena terkadang si mesin tidak bisa membaca kolom yang bertipe data string."
      ]
    },
    {
      "cell_type": "code",
      "metadata": {
        "colab": {
          "base_uri": "https://localhost:8080/",
          "height": 423
        },
        "id": "X9IyRMlekZ_B",
        "outputId": "f28a7512-b05e-4fd9-da6d-c57c10f94011"
      },
      "source": [
        "# Menghapus kolom dataset yang tidak diperlukan\n",
        "\n",
        "df.drop(columns=['gender','ever_married', 'work_type', 'Residence_type','smoking_status'], inplace=True)\n",
        " \n",
        "df"
      ],
      "execution_count": 23,
      "outputs": [
        {
          "output_type": "execute_result",
          "data": {
            "text/html": [
              "<div>\n",
              "<style scoped>\n",
              "    .dataframe tbody tr th:only-of-type {\n",
              "        vertical-align: middle;\n",
              "    }\n",
              "\n",
              "    .dataframe tbody tr th {\n",
              "        vertical-align: top;\n",
              "    }\n",
              "\n",
              "    .dataframe thead th {\n",
              "        text-align: right;\n",
              "    }\n",
              "</style>\n",
              "<table border=\"1\" class=\"dataframe\">\n",
              "  <thead>\n",
              "    <tr style=\"text-align: right;\">\n",
              "      <th></th>\n",
              "      <th>id</th>\n",
              "      <th>age</th>\n",
              "      <th>hypertension</th>\n",
              "      <th>heart_disease</th>\n",
              "      <th>avg_glucose_level</th>\n",
              "      <th>bmi</th>\n",
              "      <th>stroke</th>\n",
              "    </tr>\n",
              "  </thead>\n",
              "  <tbody>\n",
              "    <tr>\n",
              "      <th>0</th>\n",
              "      <td>9046</td>\n",
              "      <td>67.0</td>\n",
              "      <td>0</td>\n",
              "      <td>1</td>\n",
              "      <td>228.69</td>\n",
              "      <td>36.6</td>\n",
              "      <td>1</td>\n",
              "    </tr>\n",
              "    <tr>\n",
              "      <th>1</th>\n",
              "      <td>51676</td>\n",
              "      <td>61.0</td>\n",
              "      <td>0</td>\n",
              "      <td>0</td>\n",
              "      <td>202.21</td>\n",
              "      <td>NaN</td>\n",
              "      <td>1</td>\n",
              "    </tr>\n",
              "    <tr>\n",
              "      <th>2</th>\n",
              "      <td>31112</td>\n",
              "      <td>80.0</td>\n",
              "      <td>0</td>\n",
              "      <td>1</td>\n",
              "      <td>105.92</td>\n",
              "      <td>32.5</td>\n",
              "      <td>1</td>\n",
              "    </tr>\n",
              "    <tr>\n",
              "      <th>3</th>\n",
              "      <td>60182</td>\n",
              "      <td>49.0</td>\n",
              "      <td>0</td>\n",
              "      <td>0</td>\n",
              "      <td>171.23</td>\n",
              "      <td>34.4</td>\n",
              "      <td>1</td>\n",
              "    </tr>\n",
              "    <tr>\n",
              "      <th>4</th>\n",
              "      <td>1665</td>\n",
              "      <td>79.0</td>\n",
              "      <td>1</td>\n",
              "      <td>0</td>\n",
              "      <td>174.12</td>\n",
              "      <td>24.0</td>\n",
              "      <td>1</td>\n",
              "    </tr>\n",
              "    <tr>\n",
              "      <th>...</th>\n",
              "      <td>...</td>\n",
              "      <td>...</td>\n",
              "      <td>...</td>\n",
              "      <td>...</td>\n",
              "      <td>...</td>\n",
              "      <td>...</td>\n",
              "      <td>...</td>\n",
              "    </tr>\n",
              "    <tr>\n",
              "      <th>5105</th>\n",
              "      <td>18234</td>\n",
              "      <td>80.0</td>\n",
              "      <td>1</td>\n",
              "      <td>0</td>\n",
              "      <td>83.75</td>\n",
              "      <td>NaN</td>\n",
              "      <td>0</td>\n",
              "    </tr>\n",
              "    <tr>\n",
              "      <th>5106</th>\n",
              "      <td>44873</td>\n",
              "      <td>81.0</td>\n",
              "      <td>0</td>\n",
              "      <td>0</td>\n",
              "      <td>125.20</td>\n",
              "      <td>40.0</td>\n",
              "      <td>0</td>\n",
              "    </tr>\n",
              "    <tr>\n",
              "      <th>5107</th>\n",
              "      <td>19723</td>\n",
              "      <td>35.0</td>\n",
              "      <td>0</td>\n",
              "      <td>0</td>\n",
              "      <td>82.99</td>\n",
              "      <td>30.6</td>\n",
              "      <td>0</td>\n",
              "    </tr>\n",
              "    <tr>\n",
              "      <th>5108</th>\n",
              "      <td>37544</td>\n",
              "      <td>51.0</td>\n",
              "      <td>0</td>\n",
              "      <td>0</td>\n",
              "      <td>166.29</td>\n",
              "      <td>25.6</td>\n",
              "      <td>0</td>\n",
              "    </tr>\n",
              "    <tr>\n",
              "      <th>5109</th>\n",
              "      <td>44679</td>\n",
              "      <td>44.0</td>\n",
              "      <td>0</td>\n",
              "      <td>0</td>\n",
              "      <td>85.28</td>\n",
              "      <td>26.2</td>\n",
              "      <td>0</td>\n",
              "    </tr>\n",
              "  </tbody>\n",
              "</table>\n",
              "<p>5110 rows × 7 columns</p>\n",
              "</div>"
            ],
            "text/plain": [
              "         id   age  hypertension  heart_disease  avg_glucose_level   bmi  stroke\n",
              "0      9046  67.0             0              1             228.69  36.6       1\n",
              "1     51676  61.0             0              0             202.21   NaN       1\n",
              "2     31112  80.0             0              1             105.92  32.5       1\n",
              "3     60182  49.0             0              0             171.23  34.4       1\n",
              "4      1665  79.0             1              0             174.12  24.0       1\n",
              "...     ...   ...           ...            ...                ...   ...     ...\n",
              "5105  18234  80.0             1              0              83.75   NaN       0\n",
              "5106  44873  81.0             0              0             125.20  40.0       0\n",
              "5107  19723  35.0             0              0              82.99  30.6       0\n",
              "5108  37544  51.0             0              0             166.29  25.6       0\n",
              "5109  44679  44.0             0              0              85.28  26.2       0\n",
              "\n",
              "[5110 rows x 7 columns]"
            ]
          },
          "metadata": {},
          "execution_count": 23
        }
      ]
    },
    {
      "cell_type": "markdown",
      "metadata": {
        "id": "XARvw8dXpRq0"
      },
      "source": [
        "##  Mengecek Nilai NaN\n",
        "Melakukan pengecekan terhadap setiap kolom untuk menemukan apakah ada yang mengandung missing value atau NaN"
      ]
    },
    {
      "cell_type": "code",
      "metadata": {
        "colab": {
          "base_uri": "https://localhost:8080/"
        },
        "id": "tzDvkLV2kunJ",
        "outputId": "1c55e0f1-e1b3-4859-eb74-d749fcbc0782"
      },
      "source": [
        "# Mengecek apakah kolom mengandung missing value atau nilai NaN\n",
        "\n",
        "for i in df.columns :\n",
        "  print (i+\": \"+str(df[i].isna().sum()))"
      ],
      "execution_count": 24,
      "outputs": [
        {
          "output_type": "stream",
          "name": "stdout",
          "text": [
            "id: 0\n",
            "age: 0\n",
            "hypertension: 0\n",
            "heart_disease: 0\n",
            "avg_glucose_level: 0\n",
            "bmi: 201\n",
            "stroke: 0\n"
          ]
        }
      ]
    },
    {
      "cell_type": "markdown",
      "metadata": {
        "id": "l6T6qG85pdTi"
      },
      "source": [
        "# Mengatasi Missing Value\n",
        "Salah satu caranya adalah dengan mengisinya dengan nilai median(tengah).Missing Value akan membuat kolom tersebut tidak dapat diproses dan harus diisi jika ingin diproses.Pengisian data menggunakan nilai median akan membantu dalam menormalkan data yang hilang akibat kesalahan teknis dataset dan mempengarungi model tentunya."
      ]
    },
    {
      "cell_type": "code",
      "metadata": {
        "id": "U2tr7WjZk16K"
      },
      "source": [
        "# Mengisi nilai atau data kosong pada dataset dengan median dari kolom.\n",
        "\n",
        "df['hypertension'] = df['hypertension'].fillna(df['hypertension'].median())\n",
        "df['heart_disease'] = df['heart_disease'].fillna(df['heart_disease'].median())\n",
        "df['stroke'] = df['stroke'].fillna(df['stroke'].median())\n",
        "df['bmi'] = df['bmi'].fillna(df['bmi'].median())\n",
        "df['avg_glucose_level'] = df['avg_glucose_level'].fillna(df['avg_glucose_level'].median())\n",
        "df['age'] = df['age'].fillna(df['age'].median())"
      ],
      "execution_count": 25,
      "outputs": []
    },
    {
      "cell_type": "markdown",
      "metadata": {
        "id": "NNqdKl8KqBk9"
      },
      "source": [
        "## Melakukan Pengecekan Nilai NaN (2)\n",
        "Melakukan pengecekan kembali apakah ada kolom yang mengandung nilai NaN atau tidak dengan tujuan agar proses selanjutnya bisa berjalan dengan baik"
      ]
    },
    {
      "cell_type": "code",
      "metadata": {
        "colab": {
          "base_uri": "https://localhost:8080/"
        },
        "id": "LuF632DclljE",
        "outputId": "ba29febf-7c10-4a65-8335-f642fbd976ba"
      },
      "source": [
        "# Memerika pada setiap kolom diatas untuk mencari nilai kosong atau missing value (NaN) setelah tahap pre-processing\n",
        "\n",
        "for i in df.columns:\n",
        "  print(i+\" :\" + str(df[i].isna().sum()))"
      ],
      "execution_count": 26,
      "outputs": [
        {
          "output_type": "stream",
          "name": "stdout",
          "text": [
            "id :0\n",
            "age :0\n",
            "hypertension :0\n",
            "heart_disease :0\n",
            "avg_glucose_level :0\n",
            "bmi :0\n",
            "stroke :0\n"
          ]
        }
      ]
    },
    {
      "cell_type": "markdown",
      "metadata": {
        "id": "rujiBQj7qTpL"
      },
      "source": [
        "Menampilkan data dari hasil pre-processing"
      ]
    },
    {
      "cell_type": "code",
      "metadata": {
        "colab": {
          "base_uri": "https://localhost:8080/",
          "height": 300
        },
        "id": "MM5-__SXlscq",
        "outputId": "ce340e84-8aac-4df0-d122-7d1e678c3d18"
      },
      "source": [
        "# Tampilkan data hasil preprocessing\n",
        "df.describe()"
      ],
      "execution_count": 27,
      "outputs": [
        {
          "output_type": "execute_result",
          "data": {
            "text/html": [
              "<div>\n",
              "<style scoped>\n",
              "    .dataframe tbody tr th:only-of-type {\n",
              "        vertical-align: middle;\n",
              "    }\n",
              "\n",
              "    .dataframe tbody tr th {\n",
              "        vertical-align: top;\n",
              "    }\n",
              "\n",
              "    .dataframe thead th {\n",
              "        text-align: right;\n",
              "    }\n",
              "</style>\n",
              "<table border=\"1\" class=\"dataframe\">\n",
              "  <thead>\n",
              "    <tr style=\"text-align: right;\">\n",
              "      <th></th>\n",
              "      <th>id</th>\n",
              "      <th>age</th>\n",
              "      <th>hypertension</th>\n",
              "      <th>heart_disease</th>\n",
              "      <th>avg_glucose_level</th>\n",
              "      <th>bmi</th>\n",
              "      <th>stroke</th>\n",
              "    </tr>\n",
              "  </thead>\n",
              "  <tbody>\n",
              "    <tr>\n",
              "      <th>count</th>\n",
              "      <td>5110.000000</td>\n",
              "      <td>5110.000000</td>\n",
              "      <td>5110.000000</td>\n",
              "      <td>5110.000000</td>\n",
              "      <td>5110.000000</td>\n",
              "      <td>5110.000000</td>\n",
              "      <td>5110.000000</td>\n",
              "    </tr>\n",
              "    <tr>\n",
              "      <th>mean</th>\n",
              "      <td>36517.829354</td>\n",
              "      <td>43.226614</td>\n",
              "      <td>0.097456</td>\n",
              "      <td>0.054012</td>\n",
              "      <td>106.147677</td>\n",
              "      <td>28.862035</td>\n",
              "      <td>0.048728</td>\n",
              "    </tr>\n",
              "    <tr>\n",
              "      <th>std</th>\n",
              "      <td>21161.721625</td>\n",
              "      <td>22.612647</td>\n",
              "      <td>0.296607</td>\n",
              "      <td>0.226063</td>\n",
              "      <td>45.283560</td>\n",
              "      <td>7.699562</td>\n",
              "      <td>0.215320</td>\n",
              "    </tr>\n",
              "    <tr>\n",
              "      <th>min</th>\n",
              "      <td>67.000000</td>\n",
              "      <td>0.080000</td>\n",
              "      <td>0.000000</td>\n",
              "      <td>0.000000</td>\n",
              "      <td>55.120000</td>\n",
              "      <td>10.300000</td>\n",
              "      <td>0.000000</td>\n",
              "    </tr>\n",
              "    <tr>\n",
              "      <th>25%</th>\n",
              "      <td>17741.250000</td>\n",
              "      <td>25.000000</td>\n",
              "      <td>0.000000</td>\n",
              "      <td>0.000000</td>\n",
              "      <td>77.245000</td>\n",
              "      <td>23.800000</td>\n",
              "      <td>0.000000</td>\n",
              "    </tr>\n",
              "    <tr>\n",
              "      <th>50%</th>\n",
              "      <td>36932.000000</td>\n",
              "      <td>45.000000</td>\n",
              "      <td>0.000000</td>\n",
              "      <td>0.000000</td>\n",
              "      <td>91.885000</td>\n",
              "      <td>28.100000</td>\n",
              "      <td>0.000000</td>\n",
              "    </tr>\n",
              "    <tr>\n",
              "      <th>75%</th>\n",
              "      <td>54682.000000</td>\n",
              "      <td>61.000000</td>\n",
              "      <td>0.000000</td>\n",
              "      <td>0.000000</td>\n",
              "      <td>114.090000</td>\n",
              "      <td>32.800000</td>\n",
              "      <td>0.000000</td>\n",
              "    </tr>\n",
              "    <tr>\n",
              "      <th>max</th>\n",
              "      <td>72940.000000</td>\n",
              "      <td>82.000000</td>\n",
              "      <td>1.000000</td>\n",
              "      <td>1.000000</td>\n",
              "      <td>271.740000</td>\n",
              "      <td>97.600000</td>\n",
              "      <td>1.000000</td>\n",
              "    </tr>\n",
              "  </tbody>\n",
              "</table>\n",
              "</div>"
            ],
            "text/plain": [
              "                 id          age  ...          bmi       stroke\n",
              "count   5110.000000  5110.000000  ...  5110.000000  5110.000000\n",
              "mean   36517.829354    43.226614  ...    28.862035     0.048728\n",
              "std    21161.721625    22.612647  ...     7.699562     0.215320\n",
              "min       67.000000     0.080000  ...    10.300000     0.000000\n",
              "25%    17741.250000    25.000000  ...    23.800000     0.000000\n",
              "50%    36932.000000    45.000000  ...    28.100000     0.000000\n",
              "75%    54682.000000    61.000000  ...    32.800000     0.000000\n",
              "max    72940.000000    82.000000  ...    97.600000     1.000000\n",
              "\n",
              "[8 rows x 7 columns]"
            ]
          },
          "metadata": {},
          "execution_count": 27
        }
      ]
    },
    {
      "cell_type": "markdown",
      "metadata": {
        "id": "POhlSWtrqbWT"
      },
      "source": [
        "## Mendefinisikan X dan y\n",
        "Ini merupakan salah satu tahap yang berhubungan dengan model.\n",
        "- X adalah variabel yang menjadi tolak ukur untuk melakukan prediksi.\n",
        "- y merupakan variabel yang menjadi tujuan dari hasil prediksinya\n"
      ]
    },
    {
      "cell_type": "code",
      "metadata": {
        "id": "-2lXT_HmlvbZ"
      },
      "source": [
        "# Definisikan variabel X dan y sebagai bahan melakukan prediksi\n",
        "\n",
        "X = df.drop('stroke',axis='columns')\n",
        "y = df['stroke']"
      ],
      "execution_count": 28,
      "outputs": []
    },
    {
      "cell_type": "markdown",
      "metadata": {
        "id": "j5Qj_BM5q2Kk"
      },
      "source": [
        "## Split Train-Test dan Standard Scalling.\n",
        "\n",
        "Memisah antara data train dan data test adalah bagian terpenting dari proses machine learning dimana ini bertujuan agar hasil akurasi dan model dapat diketahui.\n",
        "Proporsi pembagiannya adalah\n",
        "- 75% untuk data latih (train)\n",
        "- 25% untuk data uji (test)\n",
        "\n",
        "Dilanjutkan dengan melakukan standard scalling untuk data data numerik.\n",
        "Scalling dilakukan dengan library Standard Scaller dari sklearn.Tujuannya agar fitur numerik dapat diproses lebih mudah pada tahap modelling."
      ]
    },
    {
      "cell_type": "code",
      "metadata": {
        "colab": {
          "base_uri": "https://localhost:8080/"
        },
        "id": "vV7mN-l-l66q",
        "outputId": "91e9847e-71e6-4ece-db98-36bbed76cfdf"
      },
      "source": [
        "# Pemisahan Dataset dan Scalling terhadap variabel\n",
        "\n",
        "X_train, X_test, y_train, y_test = train_test_split(X,y,test_size=0.25,random_state=42)\n",
        "\n",
        "# import StandardScaler\n",
        "scaler = StandardScaler()\n",
        "\n",
        "# fit dan transform untuk data trainning\n",
        "scaler.fit(X_train[numerical_features])\n",
        "X_train[numerical_features] = scaler.transform(X_train.loc[:, numerical_features])\n",
        "\n",
        "# transform untuk data testing\n",
        "X_test[numerical_features] = scaler.transform(X_test.loc[:, numerical_features])"
      ],
      "execution_count": 29,
      "outputs": [
        {
          "output_type": "stream",
          "name": "stderr",
          "text": [
            "/usr/local/lib/python3.7/dist-packages/ipykernel_launcher.py:10: SettingWithCopyWarning: \n",
            "A value is trying to be set on a copy of a slice from a DataFrame.\n",
            "Try using .loc[row_indexer,col_indexer] = value instead\n",
            "\n",
            "See the caveats in the documentation: https://pandas.pydata.org/pandas-docs/stable/user_guide/indexing.html#returning-a-view-versus-a-copy\n",
            "  # Remove the CWD from sys.path while we load stuff.\n",
            "/usr/local/lib/python3.7/dist-packages/pandas/core/indexing.py:1734: SettingWithCopyWarning: \n",
            "A value is trying to be set on a copy of a slice from a DataFrame.\n",
            "Try using .loc[row_indexer,col_indexer] = value instead\n",
            "\n",
            "See the caveats in the documentation: https://pandas.pydata.org/pandas-docs/stable/user_guide/indexing.html#returning-a-view-versus-a-copy\n",
            "  isetter(loc, value[:, i].tolist())\n",
            "/usr/local/lib/python3.7/dist-packages/ipykernel_launcher.py:13: SettingWithCopyWarning: \n",
            "A value is trying to be set on a copy of a slice from a DataFrame.\n",
            "Try using .loc[row_indexer,col_indexer] = value instead\n",
            "\n",
            "See the caveats in the documentation: https://pandas.pydata.org/pandas-docs/stable/user_guide/indexing.html#returning-a-view-versus-a-copy\n",
            "  del sys.path[0]\n",
            "/usr/local/lib/python3.7/dist-packages/pandas/core/indexing.py:1734: SettingWithCopyWarning: \n",
            "A value is trying to be set on a copy of a slice from a DataFrame.\n",
            "Try using .loc[row_indexer,col_indexer] = value instead\n",
            "\n",
            "See the caveats in the documentation: https://pandas.pydata.org/pandas-docs/stable/user_guide/indexing.html#returning-a-view-versus-a-copy\n",
            "  isetter(loc, value[:, i].tolist())\n"
          ]
        }
      ]
    },
    {
      "cell_type": "markdown",
      "metadata": {
        "id": "QOYiQXVJrt08"
      },
      "source": [
        "# Modelling (Pemilihan Algoritma)\n",
        "Pembuatan model didasari oleh 2 algoritma yang dipilih,yaitu :\n",
        "\n",
        "- Logistic Regression <br>\n",
        "Digunakan untuk melakukan prediksi probabilitas kejadian suatu peristiwa dengan mencocokan datanya ke fungsi logit kurva logistik.\n",
        "\n",
        "- Random Forest <br>\n",
        "Merupakan salah satu metode dalam Decision Tree dimana pohon keputusan utuh terbentuk dari banyak decision tree atau estimators yang memberikan pendapat masing masing dengan bentuk pohon kecil.Random Forest memiliki ketergantungan terhadap Decision Tree.\n",
        "\n",
        "Penggunaan Model <br>\n",
        "Berdasarkan hasil tersebut,maka dapat dilihat bahwa akurasi model dari Logistic Regression jauh lebih tinggi atau melewati standard dibandingkan dengan algoritma Random Forest.Maka kesimpulannya,algoritma Logistic Regression menjadi pilihan yang tepat."
      ]
    },
    {
      "cell_type": "code",
      "metadata": {
        "id": "Xa41b_J_mP1C"
      },
      "source": [
        "# Mendefinisikan Model dan Metode yang akan dibentuk\n",
        "\n",
        "logRes_model = LogisticRegression(max_iter=1000)\n",
        "RF_model = RandomForestRegressor(n_estimators=1000,\n",
        "            max_depth=16, random_state=55, n_jobs=1)"
      ],
      "execution_count": 32,
      "outputs": []
    },
    {
      "cell_type": "markdown",
      "metadata": {
        "id": "IwKZ1k5zs7HF"
      },
      "source": [
        "## Melakukan Trainning pada kedua algoritma atau metode.\n",
        "Melakukan trainning atau fitting terhadap kedua algoritma menggunakan dataset yang sama yaitu data train dan menggunakan fit untuk sintaksnya"
      ]
    },
    {
      "cell_type": "code",
      "metadata": {
        "colab": {
          "base_uri": "https://localhost:8080/"
        },
        "id": "O4pdGkAemfwS",
        "outputId": "075c4fed-ff01-40fa-c4ca-6a80477a7021"
      },
      "source": [
        "# Melakukan fitting(latih) terhadap model menggunakan dataset train pada 2 model\n",
        "# yaitu Logistic Regression dan Random Forest Regressor\n",
        "\n",
        "logRes_model.fit(X_train,y_train)\n",
        "RF_model.fit(X_train,y_train)"
      ],
      "execution_count": 33,
      "outputs": [
        {
          "output_type": "execute_result",
          "data": {
            "text/plain": [
              "RandomForestRegressor(bootstrap=True, ccp_alpha=0.0, criterion='mse',\n",
              "                      max_depth=16, max_features='auto', max_leaf_nodes=None,\n",
              "                      max_samples=None, min_impurity_decrease=0.0,\n",
              "                      min_impurity_split=None, min_samples_leaf=1,\n",
              "                      min_samples_split=2, min_weight_fraction_leaf=0.0,\n",
              "                      n_estimators=1000, n_jobs=1, oob_score=False,\n",
              "                      random_state=55, verbose=0, warm_start=False)"
            ]
          },
          "metadata": {},
          "execution_count": 33
        }
      ]
    },
    {
      "cell_type": "markdown",
      "metadata": {
        "id": "czj4q9MqtTr8"
      },
      "source": [
        "## Proses Testing Model\n",
        "Melakukan testing pada data test dengan prediksi data yang ada pada dataset test lalu menampilkannya dalam bentuk akurasi."
      ]
    },
    {
      "cell_type": "code",
      "metadata": {
        "colab": {
          "base_uri": "https://localhost:8080/"
        },
        "id": "g6JqFN92oo2h",
        "outputId": "e796550a-7280-4a5c-8dc5-8bda32b43b56"
      },
      "source": [
        "# Melakukan prediksi terhadap dataset test dan menampilkan hasilnya\n",
        "\n",
        "logRes_y_pred = logRes_model.predict(X_test)\n",
        "RF_y_pred = RF_model.predict(X_test)\n",
        "\n",
        "print(\"Akurasi algoritma Logistic Regression : {}\".format(logRes_model.score(X_test,y_test).round(3)))\n",
        "print(\"Akurasi algoritma Random Forest : \\t : {} \".format(RF_model.score(X_test,y_test).round(3)))"
      ],
      "execution_count": 44,
      "outputs": [
        {
          "output_type": "stream",
          "name": "stdout",
          "text": [
            "Akurasi algoritma Logistic Regression : 0.937\n",
            "Akurasi algoritma Random Forest : \t : 0.039 \n"
          ]
        }
      ]
    },
    {
      "cell_type": "markdown",
      "metadata": {
        "id": "ihvHyqqbthGU"
      },
      "source": [
        "## Hasil Model Test\n",
        "Berdasarkan hasil tersebut , maka dapat dilihat bahwa akurasi dari algoritma Logistic Regression memiliki akurasi yang jauh lebih tinggi dari Random Forest yaitu sebesar 0.937 atau 93%."
      ]
    },
    {
      "cell_type": "markdown",
      "metadata": {
        "id": "ElQJ4s_BuF6D"
      },
      "source": [
        "# Evaluasi\n",
        "Dalam proses evaluasi, disajikan informasi mengenai algoritma yang dipilih yaitu Logistic Regression serta penjelesan mengenai perbandinganya dengan algoritma Random Forest,dalam kasus ini yaitu :\n",
        "- Akurasi\n",
        "- MSE (Mean Squared Error)\n",
        "\n",
        "Penjelasan lebih lanjut mengenai algoritma yang dipilih ialah :\n",
        "- Bobot dan nilai bias dari algoritma\n",
        "- Visualisasi Heatmap dari Confussion Matrix"
      ]
    },
    {
      "cell_type": "markdown",
      "metadata": {
        "id": "BuO9yilYup4E"
      },
      "source": [
        "## Metrik #1 : Akurasi\n",
        "Dari hasil yang didapatkan, akurasi yang dihasilkan Logistic Regression lebih tinggi dari Random Forest dan terlihat memiliki rentang nilai yang cukup jauh dimana Logistic Regression mencapai 0.937 sedangkan Random Forest hanya 0.039."
      ]
    },
    {
      "cell_type": "code",
      "metadata": {
        "colab": {
          "base_uri": "https://localhost:8080/"
        },
        "id": "WjrPFddypNBK",
        "outputId": "9e3b9371-e0d9-42aa-bd81-c37d6b39d79a"
      },
      "source": [
        "# Metrik 1 : Akurasi, perbandingan kedua model diatas.\n",
        "\n",
        "print(\"Akurasi algoritma Logistic Regression: {}\".format(logRes_model.score(X_test,y_test).round(3)))\n",
        "print(\"Akurasi algoritma Random Forest\\t: {}\".format(RF_model.score(X_test,y_test).round(3)))"
      ],
      "execution_count": 49,
      "outputs": [
        {
          "output_type": "stream",
          "name": "stdout",
          "text": [
            "Akurasi algoritma Logistic Regression: 0.937\n",
            "Akurasi algoritma Random Forest\t: 0.039\n"
          ]
        }
      ]
    },
    {
      "cell_type": "markdown",
      "metadata": {
        "id": "Xqf1Zwe7vLz3"
      },
      "source": [
        "## Metrik #2: MSE\n",
        "Melakukan pengecekan dengan menggunakan MSE pada algoritma Linear Regression dan Random Forest. Dalam bagian ini disajikan sebuah grafik dari perbandingan kedua algoritma"
      ]
    },
    {
      "cell_type": "code",
      "metadata": {
        "colab": {
          "base_uri": "https://localhost:8080/",
          "height": 112
        },
        "id": "NjNEJj-8pmxQ",
        "outputId": "71d8880c-c94a-4444-b3a4-9e48e34451ae"
      },
      "source": [
        "# Metrik 2 : MSE,mengecek Mean Squared Error(MSE) pada kedua model diatas.\n",
        "\n",
        "mse = pd.DataFrame(columns=['train', 'test'], index=['LogRes','RF'])\n",
        "dict_model = {'LogRes': logRes_model, 'RF': RF_model}\n",
        "for name, model in dict_model.items():\n",
        "    mse.loc[name, 'train'] = mean_squared_error(y_true=y_train, y_pred=model.predict(X_train))/1e3 \n",
        "    mse.loc[name, 'test'] = mean_squared_error(y_true=y_test, y_pred=model.predict(X_test))/1e3\n",
        "mse"
      ],
      "execution_count": 50,
      "outputs": [
        {
          "output_type": "execute_result",
          "data": {
            "text/html": [
              "<div>\n",
              "<style scoped>\n",
              "    .dataframe tbody tr th:only-of-type {\n",
              "        vertical-align: middle;\n",
              "    }\n",
              "\n",
              "    .dataframe tbody tr th {\n",
              "        vertical-align: top;\n",
              "    }\n",
              "\n",
              "    .dataframe thead th {\n",
              "        text-align: right;\n",
              "    }\n",
              "</style>\n",
              "<table border=\"1\" class=\"dataframe\">\n",
              "  <thead>\n",
              "    <tr style=\"text-align: right;\">\n",
              "      <th></th>\n",
              "      <th>train</th>\n",
              "      <th>test</th>\n",
              "    </tr>\n",
              "  </thead>\n",
              "  <tbody>\n",
              "    <tr>\n",
              "      <th>LogRes</th>\n",
              "      <td>4.41023e-05</td>\n",
              "      <td>6.25978e-05</td>\n",
              "    </tr>\n",
              "    <tr>\n",
              "      <th>RF</th>\n",
              "      <td>6.05221e-06</td>\n",
              "      <td>5.63667e-05</td>\n",
              "    </tr>\n",
              "  </tbody>\n",
              "</table>\n",
              "</div>"
            ],
            "text/plain": [
              "              train         test\n",
              "LogRes  4.41023e-05  6.25978e-05\n",
              "RF      6.05221e-06  5.63667e-05"
            ]
          },
          "metadata": {},
          "execution_count": 50
        }
      ]
    },
    {
      "cell_type": "markdown",
      "metadata": {
        "id": "tUVPLmpFvdku"
      },
      "source": [
        "Menampilkan hasil plotting MSE dalam perbandingan kedua algoritma."
      ]
    },
    {
      "cell_type": "code",
      "metadata": {
        "colab": {
          "base_uri": "https://localhost:8080/",
          "height": 278
        },
        "id": "Wiyadg-upwta",
        "outputId": "ef8b2063-c79a-4933-ed97-a93acd82fe95"
      },
      "source": [
        "# Tampilkan hasil plotting MSE\n",
        "\n",
        "import matplotlib.pyplot as plt\n",
        "\n",
        "fig, ax = plt.subplots()\n",
        "mse.sort_values(by='test', ascending=False).plot(kind='barh', ax=ax, zorder=3)\n",
        "ax.grid(zorder=0)"
      ],
      "execution_count": 51,
      "outputs": [
        {
          "output_type": "display_data",
          "data": {
            "image/png": "[encoded data removed]",
            "text/plain": [
              "<Figure size 432x288 with 1 Axes>"
            ]
          },
          "metadata": {
            "needs_background": "light"
          }
        }
      ]
    },
    {
      "cell_type": "markdown",
      "metadata": {
        "id": "pCbBEI7WvqlF"
      },
      "source": [
        "## Bobot dan nilai bias Logsitic Regression\n",
        "\n",
        "Mencari bobot dari masing masing variabel yang ada dalam Linear Regression dengan tujuan untuk mengetahui nilai dari nilai bobot pada setiap variabel dan nilai bias dari setelah dilakukan sejumlah N perulangan"
      ]
    },
    {
      "cell_type": "code",
      "metadata": {
        "colab": {
          "base_uri": "https://localhost:8080/"
        },
        "id": "v3mSJhDYqPS_",
        "outputId": "686a6810-f1c1-4b30-d530-c09cbe483952"
      },
      "source": [
        "# Mencari nilai bobot dari masing masing variabel yang terdapat dalam model\n",
        "\n",
        "print(\"Nilai Bobot Tiap Variabel:\\n{}\\n\\nNilai Bias: {}\\n\\nBanyaknya iterasi: {}\".format(logRes_model.coef_[0], logRes_model.intercept_[0], logRes_model.n_iter_[0]))"
      ],
      "execution_count": 52,
      "outputs": [
        {
          "output_type": "stream",
          "name": "stdout",
          "text": [
            "Nilai Bobot Tiap Variabel:\n",
            "[-8.22448143e-05  1.40046937e-08  3.40344466e-10  7.24949592e-09\n",
            "  7.50655055e-09  2.37432385e-09]\n",
            "\n",
            "Nilai Bias: -2.1551376789831707e-08\n",
            "\n",
            "Banyaknya iterasi: 8\n"
          ]
        }
      ]
    },
    {
      "cell_type": "markdown",
      "metadata": {
        "id": "YIHcyhyMwFhV"
      },
      "source": [
        "## Confussion Matric Logistic Regression\n",
        "Menciptakan confussion matrix untuk mengetahui letak prediksi yang salah maupun prediksi yang benar pada saat mesin sedang melakukan proses prediksi."
      ]
    },
    {
      "cell_type": "code",
      "metadata": {
        "colab": {
          "base_uri": "https://localhost:8080/"
        },
        "id": "TYhbZ3jBqa0K",
        "outputId": "5e6f7f5d-7568-4ee9-b1d0-e9b58744cdd0"
      },
      "source": [
        "# Membuat Confussion Matrix agar dapat mencari kesalahan dalam prediksi model (akurasi)\n",
        "\n",
        "logRes_cn = confusion_matrix(y_test,logRes_y_pred)\n",
        "print(\"Confusion Matrix Logistic Regression: \\n{}\".format(logRes_cn))"
      ],
      "execution_count": 53,
      "outputs": [
        {
          "output_type": "stream",
          "name": "stdout",
          "text": [
            "Confusion Matrix Logistic Regression: \n",
            "[[1198    0]\n",
            " [  80    0]]\n"
          ]
        }
      ]
    },
    {
      "cell_type": "markdown",
      "metadata": {
        "id": "ogUxZYG2wWyN"
      },
      "source": [
        "## Heatmap Visualisasi Confussion Matrix\n",
        "Visualisasi data melalui heatmap bertujuan untuk melihat lebih jelas distribuasi dari hasil model."
      ]
    },
    {
      "cell_type": "code",
      "metadata": {
        "colab": {
          "base_uri": "https://localhost:8080/",
          "height": 283
        },
        "id": "bBUjSSomqtOr",
        "outputId": "d925f1c5-6dd4-4302-8f9b-eb10dfdccf87"
      },
      "source": [
        "# Heatmap menggunakan SNS\n",
        "\n",
        "sns.heatmap(logRes_cn, annot=True)"
      ],
      "execution_count": 54,
      "outputs": [
        {
          "output_type": "execute_result",
          "data": {
            "text/plain": [
              "<matplotlib.axes._subplots.AxesSubplot at 0x7ffaf65d3590>"
            ]
          },
          "metadata": {},
          "execution_count": 54
        },
        {
          "output_type": "display_data",
          "data": {
            "image/png": "[encoded data removed]",
            "text/plain": [
              "<Figure size 432x288 with 2 Axes>"
            ]
          },
          "metadata": {
            "needs_background": "light"
          }
        }
      ]
    }
  ]
}